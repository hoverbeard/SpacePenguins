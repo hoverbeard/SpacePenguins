{
 "cells": [
  {
   "cell_type": "markdown",
   "id": "7d8334ba-4a35-4285-beda-5463f190e66e",
   "metadata": {},
   "source": [
    "# Swiss Policy Research Dataset (EN News Outlets) "
   ]
  },
  {
   "cell_type": "code",
   "execution_count": 206,
   "id": "3e6434d8-a64d-4edd-92ff-385f135394be",
   "metadata": {},
   "outputs": [
    {
     "data": {
      "text/plain": [
       "[('https://www.cnn.com/', 'Liberal'),\n",
       " ('https://www.thedailybeast.com/', 'Liberal'),\n",
       " ('https://www.vice.com/', 'Liberal'),\n",
       " ('https://www.msnbc.com/', 'Liberal'),\n",
       " ('https://www.vox.com/', 'Liberal'),\n",
       " ('https://www.theguardian.com/', 'Liberal'),\n",
       " ('https://www.washingtonpost.com/', 'Liberal'),\n",
       " ('https://www.politico.com/', 'Liberal'),\n",
       " ('https://en.wikipedia.org/', 'Liberal'),\n",
       " ('https://tyt.com/', 'Liberal'),\n",
       " ('https://www.motherjones.com/', 'Liberal'),\n",
       " ('https://jacobinmag.com/', 'Liberal'),\n",
       " ('https://theintercept.com/', 'Liberal'),\n",
       " ('https://www.alternet.org/', 'Liberal'),\n",
       " ('https://www.democracynow.org/', 'Liberal'),\n",
       " ('https://www.thenation.com/', 'Liberal'),\n",
       " ('https://truthout.org/', 'Liberal'),\n",
       " ('https://therealnews.com/', 'Liberal'),\n",
       " ('https://www.wsws.org/', 'Liberal'),\n",
       " ('https://www.thecanary.co/', 'Liberal'),\n",
       " ('https://thegrayzone.com/', 'Liberal'),\n",
       " ('https://www.counterpunch.org/', 'Liberal'),\n",
       " ('https://21stcenturywire.com/', 'Liberal'),\n",
       " ('https://www.mintpressnews.com/', 'Liberal'),\n",
       " ('https://covertactionmagazine.com/', 'Liberal'),\n",
       " ('https://www.moonofalabama.org/', 'Liberal'),\n",
       " ('https://off-guardian.org/', 'Liberal'),\n",
       " ('https://www.bbc.co.uk/', 'Center'),\n",
       " ('https://www.cbsnews.com/', 'Center'),\n",
       " ('https://abcnews.go.com/', 'Center'),\n",
       " ('https://www.nytimes.com/', 'Center'),\n",
       " ('https://www.ft.com/', 'Center'),\n",
       " ('https://thehill.com/', 'Center'),\n",
       " ('https://time.com/', 'Center'),\n",
       " ('https://www.economist.com/', 'Center'),\n",
       " ('https://www.usatoday.com/', 'Center'),\n",
       " ('https://www.globalresearch.ca/', 'Center'),\n",
       " ('https://unlimitedhangout.com/', 'Center'),\n",
       " ('https://www.corbettreport.com/', 'Center'),\n",
       " ('https://consortiumnews.com/', 'Center'),\n",
       " ('https://thesaker.is/', 'Center'),\n",
       " ('https://www.thelastamericanvagabond.com/', 'Center'),\n",
       " ('https://www.informationclearinghouse.info/', 'Center'),\n",
       " ('https://www.anti-empire.com/', 'Center'),\n",
       " ('https://www.voltairenet.org/en', 'Center'),\n",
       " ('https://www.wsj.com/', 'Conservative'),\n",
       " ('https://www.telegraph.co.uk/', 'Conservative'),\n",
       " ('https://www.dailymail.co.uk/', 'Conservative'),\n",
       " ('https://nypost.com/', 'Conservative'),\n",
       " ('https://www.washingtontimes.com/', 'Conservative'),\n",
       " ('https://www.spectator.co.uk/', 'Conservative'),\n",
       " ('https://www.foxnews.com/', 'Conservative'),\n",
       " ('https://www.nationalreview.com/', 'Conservative'),\n",
       " ('https://www.washingtonexaminer.com/', 'Conservative'),\n",
       " ('https://www.theamericanconservative.com/', 'Conservative'),\n",
       " ('https://www.dailywire.com/', 'Conservative'),\n",
       " ('https://www.theepochtimes.com/', 'Conservative'),\n",
       " ('https://townhall.com/', 'Conservative'),\n",
       " ('https://dailycaller.com/', 'Conservative'),\n",
       " ('https://www.thegatewaypundit.com/', 'Conservative'),\n",
       " ('https://www.oann.com/', 'Conservative'),\n",
       " ('https://www.breitbart.com/', 'Conservative'),\n",
       " ('https://revolver.news', 'Conservative'),\n",
       " ('https://www.zerohedge.com/', 'Conservative'),\n",
       " ('https://www.activistpost.com/', 'Conservative'),\n",
       " ('https://www.antiwar.com/', 'Conservative'),\n",
       " ('https://www.informationliberation.com/', 'Conservative'),\n",
       " ('https://winterwatch.net', 'Conservative'),\n",
       " ('https://www.lewrockwell.com/', 'Conservative'),\n",
       " ('https://americanfreepress.net/', 'Conservative'),\n",
       " ('https://www.thenewamerican.com/', 'Conservative'),\n",
       " ('https://www.unz.com/', 'Conservative')]"
      ]
     },
     "execution_count": 206,
     "metadata": {},
     "output_type": "execute_result"
    }
   ],
   "source": [
    "import re\n",
    "import urllib.request\n",
    "\n",
    "fp = urllib.request.urlopen(\"https://swprs.org/media-navigator/\")\n",
    "mybytes = fp.read()\n",
    "mystr = mybytes.decode(\"utf8\")\n",
    "fp.close()\n",
    "\n",
    "string = re.search(r'Direct links to media outlets.*?(.*?)<\\/ol>', mystr, re.MULTILINE | re.DOTALL).group()\n",
    "\n",
    "list1 = re.findall(r'<li><strong>(\\w+)\\s.*?<(.*)<\\/li>', string)\n",
    "list2 = []\n",
    "prev = \"\"\n",
    "for match in list1:\n",
    "    leaning, urls = match\n",
    "    list2.extend([(x, leaning) for x in re.findall(r'<a href=\"(.*?)\"', urls)])\n",
    "\n",
    "SPR_EN = list2\n",
    "list2"
   ]
  },
  {
   "cell_type": "markdown",
   "id": "07ca2a05-7e44-4d82-a813-d49e5c76febe",
   "metadata": {},
   "source": [
    "# Swiss Policy Research Dataset (DE/AT/CH News Outlets) "
   ]
  },
  {
   "cell_type": "code",
   "execution_count": 66,
   "id": "7c305543-28e8-4960-b7e0-4e0c09c2e85a",
   "metadata": {},
   "outputs": [
    {
     "data": {
      "text/plain": [
       "[('http://www.ard.de/', 2),\n",
       " ('http://www.weltwoche.ch/', 12),\n",
       " ('http://www.expresszeitung.com/', 4),\n",
       " ('http://www.20min.ch/', 4),\n",
       " ('https://www.blaetter.de/', -4),\n",
       " ('http://www.focus.de/', 12),\n",
       " ('https://www.anti-spiegel.ru/', -2),\n",
       " ('https://nuoflix.de/', 4),\n",
       " ('http://www.german-foreign-policy.com/', -2),\n",
       " ('http://www.neues-deutschland.de/', -12),\n",
       " ('http://www.diepresse.com/', 4),\n",
       " ('https://www.vice.com/de', -12),\n",
       " ('https://www.cashkurs.com/', 2),\n",
       " ('http://www.freitag.de/', -12),\n",
       " ('http://www.n-tv.de/', 2),\n",
       " ('http://www.srf.ch/', -4),\n",
       " ('https://apolut.net/', -4),\n",
       " ('https://uncutnews.ch/', 2),\n",
       " ('https://www.berliner-zeitung.de/', -2),\n",
       " ('http://www.zeit-fragen.ch/', 2),\n",
       " ('http://www.krone.at/', 4),\n",
       " ('https://www.amerika21.de/', -12),\n",
       " ('http://www.jungundnaiv.de/', -8),\n",
       " ('https://www.republik.ch/', -8),\n",
       " ('http://www.zeit.de/', 2),\n",
       " ('http://www.zeitpunkt.ch/', -8),\n",
       " ('https://reitschuster.de/', 12),\n",
       " ('http://www.bild.de/', 4),\n",
       " ('http://www.nzz.ch/', 12),\n",
       " ('https://www.unzensuriert.at/', 8),\n",
       " ('http://www.arte.tv/', -8),\n",
       " ('https://neue-debatte.com/', -4),\n",
       " ('http://www.watson.ch/', -12),\n",
       " ('http://www.blick.ch/', 4),\n",
       " ('https://krass-und-konkret.de/', -4),\n",
       " ('http://www.free21.org/', -2),\n",
       " ('http://antikrieg.com/inhalt.htm', -2),\n",
       " ('http://www.compact-online.de/', 12),\n",
       " ('http://www.tagesspiegel.de/', 2),\n",
       " ('http://parstoday.com/de/', 12),\n",
       " ('http://www.derstandard.at/', -2),\n",
       " ('http://www.rubikon.news/', -8),\n",
       " ('http://www.jungefreiheit.de/', 8),\n",
       " ('http://www.heise.de/tp', -4),\n",
       " ('https://www.wsws.org/de/', -12),\n",
       " ('https://multipolar-magazin.de/', -2),\n",
       " ('http://www.faz.net/', 8),\n",
       " ('http://www.nrhz.de/', -12),\n",
       " ('http://www.neopresse.com/', 2),\n",
       " ('http://www.welt.de/', 8),\n",
       " ('http://german.china.org.cn/', 8),\n",
       " ('https://correctiv.org/', -8),\n",
       " ('https://journalistenwatch.com/', 12),\n",
       " ('http://www.infosperber.ch/', -8),\n",
       " ('https://de.wikipedia.org/', -8),\n",
       " ('http://www.woz.ch/', -12),\n",
       " ('http://www.deutsche-wirtschafts-nachrichten.de/', 4),\n",
       " ('http://www.handelsblatt.com/', 2),\n",
       " ('http://deutsch.rt.com/', 2),\n",
       " ('http://www.taz.de/', -12),\n",
       " ('http://www.epochtimes.de/', 4),\n",
       " ('http://www.jungewelt.de/', -12),\n",
       " ('http://www.tichyseinblick.de/', 12),\n",
       " ('https://report24.news/', 8),\n",
       " ('https://www.pressenza.com/de/', -8),\n",
       " ('https://www.wochenblick.at/', 12),\n",
       " ('https://www.spiegel.de/', -2),\n",
       " ('http://www.zdf.de/', -4),\n",
       " ('http://www.journal21.ch/', -4),\n",
       " ('https://snanews.de/', 4),\n",
       " ('https://www.voltairenet.org/de', -4),\n",
       " ('http://www.sueddeutsche.de/', -2),\n",
       " ('http://www.tagesanzeiger.ch/', -2),\n",
       " ('http://www.ef-magazin.de/', 8),\n",
       " ('http://www.orf.at/', -4),\n",
       " ('https://www.aargauerzeitung.ch/', 8),\n",
       " ('http://www.nachdenkseiten.de/', -8),\n",
       " ('http://www.info-direkt.eu/', 8),\n",
       " ('http://www.zuerst.de/', 12),\n",
       " ('http://www.cicero.de/', 8)]"
      ]
     },
     "execution_count": 66,
     "metadata": {},
     "output_type": "execute_result"
    }
   ],
   "source": [
    "import PyPDF2\n",
    "PDFFile = open(\"spr-medien-navigator_2022.pdf\",'rb')\n",
    "\n",
    "PDF = PyPDF2.PdfFileReader(PDFFile)\n",
    "pages = PDF.getNumPages()\n",
    "key = '/Annots'\n",
    "uri = '/URI'\n",
    "ank = '/A'\n",
    "\n",
    "def conv(height):\n",
    "    if height > 790: \n",
    "        return -12\n",
    "    elif height > 730: \n",
    "        return -8\n",
    "    elif height > 650: \n",
    "        return -4\n",
    "    elif height > 580: \n",
    "        return -2\n",
    "    elif height > 500: \n",
    "        return 2\n",
    "    elif height > 440: \n",
    "        return 4\n",
    "    elif height > 350: \n",
    "        return 8\n",
    "    else: \n",
    "        return 12\n",
    "\n",
    "urls = set()\n",
    "\n",
    "for page in range(pages):\n",
    "    pageObject = PDF.getPage(page)\n",
    "    ann = pageObject[key]\n",
    "    for a in ann:\n",
    "        u = a.getObject()\n",
    "        if u[ank][uri] != \"https://swprs.org/\": urls.add((u[ank][uri], conv(u[\"/Rect\"][1])))\n",
    "\n",
    "list3 = list(urls)\n",
    "SPR_DE = list3\n",
    "list3"
   ]
  },
  {
   "cell_type": "markdown",
   "id": "1a981270-24c9-497d-8894-6be714e3fab0",
   "metadata": {},
   "source": [
    "# Allsides Dataset"
   ]
  },
  {
   "cell_type": "markdown",
   "id": "ab96b6ef-28e8-4ea2-9d27-9f65ec86505a",
   "metadata": {},
   "source": [
    "Raw data from https://www.kaggle.com/datasets/supratimhaldar/allsides-ratings-of-bias-in-electronic-media"
   ]
  },
  {
   "cell_type": "code",
   "execution_count": 202,
   "id": "546d159d-7266-4bb9-a910-9e03676c6d43",
   "metadata": {},
   "outputs": [],
   "source": [
    "import csv\n",
    "import re\n",
    "import urllib.request\n",
    "\n",
    "def fetch_url(allside_url):\n",
    "    try:\n",
    "        fp = urllib.request.urlopen(allside_url)\n",
    "    except Exception:\n",
    "        return None\n",
    "    mybytes = fp.read()\n",
    "    mystr = mybytes.decode(\"utf8\")\n",
    "    fp.close()\n",
    "    return re.search(r'<div class=\"dynamic-grid\">\\n.*?href=\"(.*?)\"', mystr, re.MULTILINE | re.DOTALL).group(1) \n",
    "\n",
    "list4 = []\n",
    "\n",
    "with open('allsides.csv', 'r', newline='') as allsides:  \n",
    "    reader = csv.reader(allsides)\n",
    "    next(reader)\n",
    "    for record in reader:\n",
    "        url, bias, ref = fetch_url(record[7]), record[1], record[7]\n",
    "        if url != None: list4.append((url, bias, ref))"
   ]
  },
  {
   "cell_type": "code",
   "execution_count": 203,
   "id": "761e0e9f-c8df-4daa-8287-f56ece449d56",
   "metadata": {},
   "outputs": [
    {
     "name": "stdout",
     "output_type": "stream",
     "text": [
      "('http://abcnews.go.com/', 'left-center', 'https://www.allsides.com/news-source/abc-news-media-bias')\n",
      "('https://abovethelaw.com/', 'left-center', 'https://www.allsides.com/news-source/above-law-media-bias')\n",
      "('https://abridgenews.com', 'allsides', 'https://www.allsides.com/news-source/abridge-news-media-bias')\n",
      "('https://www.ajplus.net/', 'left', 'https://www.allsides.com/news-source/aj-media-bias')\n",
      "('https://www.aljazeera.com/', 'left-center', 'https://www.allsides.com/news-source/al-jazeera-media-bias')\n",
      "('http://www.allsides.com', 'allsides', 'https://www.allsides.com/news-source/allsides')\n",
      "('http://www.allsides.com', 'allsides', 'https://www.allsides.com/news-source/allsides-community')\n",
      "('http://www.alternet.org/', 'left', 'https://www.allsides.com/news-source/alternet-media-bias')\n",
      "('https://amgreatness.com/', 'right', 'https://www.allsides.com/news-source/american-greatness-media-bias')\n",
      "('http://www.americanthinker.com/', 'right', 'https://www.allsides.com/news-source/american-thinker')\n",
      "('http://www.aquinas.edu/thesaint/', 'left', 'https://www.allsides.com/news-source/aquinas-college-saint')\n"
     ]
    }
   ],
   "source": [
    "for i in range(11):\n",
    "    print(list4[i])"
   ]
  },
  {
   "cell_type": "code",
   "execution_count": null,
   "id": "7b3bd7ef-4c3a-4f93-bf17-448ab503b227",
   "metadata": {},
   "outputs": [],
   "source": [
    "allsides = list4"
   ]
  },
  {
   "cell_type": "markdown",
   "id": "04869623-0ec2-45b5-9af2-55e1a95f048f",
   "metadata": {
    "tags": []
   },
   "source": [
    "## (Saving/Loading Allsides Dataset)"
   ]
  },
  {
   "cell_type": "code",
   "execution_count": 29,
   "id": "f0f581bf-bd08-468b-8737-89fb5e173ef1",
   "metadata": {},
   "outputs": [],
   "source": [
    "with open('allsides_clean.csv', mode='w', newline='') as table:\n",
    "    writer = csv.writer(table)\n",
    "    for row in list4:\n",
    "        writer.writerow(list(row))"
   ]
  },
  {
   "cell_type": "code",
   "execution_count": 143,
   "id": "f48cd69c-f0a7-430a-90db-a304eedada70",
   "metadata": {},
   "outputs": [],
   "source": [
    "list4 = []\n",
    "with open('allsides_clean.csv', 'r', newline='') as allsides:  \n",
    "    reader = csv.reader(allsides)\n",
    "    for record in reader:\n",
    "        list4.append(tuple(record))"
   ]
  },
  {
   "cell_type": "markdown",
   "id": "3c72ac80-530a-4c9b-a9b1-4acdae0894b8",
   "metadata": {
    "tags": []
   },
   "source": [
    "# Ad Fontes Media Dataset"
   ]
  },
  {
   "cell_type": "markdown",
   "id": "db1cd9e7-1e36-4e4a-bf3f-298c18a0517f",
   "metadata": {},
   "source": [
    "Raw data from https://github.com/IgniparousTempest/mediabiasfactcheck.com-bias/blob/master/Media%20Bias%20Chart%20Version%204.0%20-%20ad%20fontes%20media.csv"
   ]
  },
  {
   "cell_type": "code",
   "execution_count": null,
   "id": "dbcb76a6-b31a-4501-ba30-a9ada3c1f561",
   "metadata": {},
   "outputs": [],
   "source": [
    "from googlesearch import search\n",
    "\n",
    "def fetch_url2(name):\n",
    "    x = search(name+\" news website\", tld=\"com\", num=1, stop=1)\n",
    "    return next(x)\n",
    "\n",
    "list5 = []\n",
    "\n",
    "with open('ad fontes.csv', 'r', newline='') as adfontes:  \n",
    "    reader = csv.reader(adfontes)\n",
    "    next(reader)\n",
    "    for record in reader:\n",
    "        url, reliable, bias = fetch_url2(record[0]), record[1], record[2]\n",
    "        list5.append((url, reliable, bias))\n",
    "        print(url, reliable, bias)"
   ]
  },
  {
   "cell_type": "code",
   "execution_count": 20,
   "id": "bf612470-b9e5-43bf-9026-1afe0310bbc9",
   "metadata": {},
   "outputs": [],
   "source": [
    "with open('adfontes_clean.csv', mode='w', newline='') as table:\n",
    "    writer = csv.writer(table)\n",
    "    for row in list5:\n",
    "        writer.writerow(list(row))"
   ]
  },
  {
   "cell_type": "markdown",
   "id": "64f1cfbf-c91d-45ed-9323-8f407696fd9a",
   "metadata": {},
   "source": [
    "===\n",
    "[**Manual cleanup of URLs**]\n",
    "==="
   ]
  },
  {
   "cell_type": "code",
   "execution_count": 129,
   "id": "dbb65f3d-3435-45e1-8d96-73e88165ba2f",
   "metadata": {},
   "outputs": [],
   "source": [
    "import csv\n",
    "list6 = []\n",
    "with open('adfontes_clean2.csv', 'r', newline='') as table:  \n",
    "    reader = csv.reader(table)\n",
    "    for record in reader:\n",
    "        list6.append(tuple(record))"
   ]
  },
  {
   "cell_type": "code",
   "execution_count": 130,
   "id": "383672b6-ed67-488f-aa7d-36b602f1b291",
   "metadata": {},
   "outputs": [
    {
     "name": "stdout",
     "output_type": "stream",
     "text": [
      "('https://abcnews.go.com/', '57', '0')\n",
      "('https://www.afp.com/', '62', '0')\n",
      "('https://www.aljazeera.com/us-canada/', '54', '-1')\n",
      "('https://www.alternet.org/', '18', '-23')\n",
      "('https://apnews.com/', '62', '0')\n",
      "('https://www.axios.com/', '52', '-2')\n",
      "('https://www.bbc.com/', '54', '-3')\n",
      "('https://bipartisanreport.com/', '13', '-27')\n",
      "('https://www.bloomberg.com/', '58', '4')\n",
      "('https://www.breitbart.com/', '8', '34')\n",
      "('https://www.businessinsider.com/', '39', '0')\n"
     ]
    }
   ],
   "source": [
    "for i in range(11):\n",
    "    print(list6[i])"
   ]
  },
  {
   "cell_type": "code",
   "execution_count": 131,
   "id": "8d8f7234-514c-4e15-8331-b7a814908e4b",
   "metadata": {},
   "outputs": [],
   "source": [
    "adfontes = list6"
   ]
  },
  {
   "cell_type": "markdown",
   "id": "d64af901-c1be-468e-a4a6-cd839022ffb6",
   "metadata": {
    "tags": []
   },
   "source": [
    "# Media Bias Fact Check Dataset"
   ]
  },
  {
   "cell_type": "markdown",
   "id": "4eb025c4-4be1-424a-bd40-07f04ca307c0",
   "metadata": {},
   "source": [
    "Raw data from https://github.com/ramybaly/News-Media-Reliability/blob/master/data/acl2020/corpus.tsv"
   ]
  },
  {
   "cell_type": "code",
   "execution_count": 204,
   "id": "916ec245-6cfa-44cb-9fa3-535b32e75a5e",
   "metadata": {},
   "outputs": [],
   "source": [
    "list7 = []\n",
    "with open(\"corpus.tsv\") as file:\n",
    "    tsv_file = csv.reader(file, delimiter=\"\\t\")\n",
    "    next(tsv_file)\n",
    "    for record in tsv_file:\n",
    "        list7.append((record[1], record[3], record[4], record[2]))"
   ]
  },
  {
   "cell_type": "code",
   "execution_count": 205,
   "id": "a1809821-402b-47fd-91d0-b4494e3bec4e",
   "metadata": {},
   "outputs": [
    {
     "name": "stdout",
     "output_type": "stream",
     "text": [
      "('crooked.com', 'high', 'left', 'https://mediabiasfactcheck.com/crooked-media/')\n",
      "('deepleftfield.info', 'mixed', 'left', 'https://mediabiasfactcheck.com/deep-left-field/')\n",
      "('antifascistnews.net', 'high', 'left', 'https://mediabiasfactcheck.com/anti-fascist-news/')\n",
      "('cnn.com', 'mixed', 'left', 'http://mediabiasfactcheck.com/cnn/')\n",
      "('allthatsfab.com', 'mixed', 'left', 'http://mediabiasfactcheck.com/all-thats-fab/')\n",
      "('dailykos.com', 'mixed', 'left', 'http://mediabiasfactcheck.com/daily-kos/')\n",
      "('deepstatenation.com', 'mixed', 'left', 'https://mediabiasfactcheck.com/deepstatenation-com/')\n",
      "('crooksandliars.com', 'mixed', 'left', 'http://mediabiasfactcheck.com/crooks-and-liars/')\n",
      "('autostraddle.com', 'high', 'left', 'https://mediabiasfactcheck.com/autostraddle/')\n",
      "('codepink.org', 'mixed', 'left', 'https://mediabiasfactcheck.com/code-pink/')\n",
      "('bluedotdaily.com', 'mixed', 'left', 'http://mediabiasfactcheck.com/blue-dot-daily/')\n"
     ]
    }
   ],
   "source": [
    "for i in range(11):\n",
    "    print(list7[i])"
   ]
  },
  {
   "cell_type": "code",
   "execution_count": 42,
   "id": "38bd11d4-316a-4787-a915-3cba62209857",
   "metadata": {},
   "outputs": [],
   "source": [
    "MBFC = list7"
   ]
  },
  {
   "cell_type": "markdown",
   "id": "0b10bc02-8390-4655-a922-d4336771db4e",
   "metadata": {},
   "source": [
    "# Normalising/Standardasing All Datasets"
   ]
  },
  {
   "cell_type": "code",
   "execution_count": 157,
   "id": "087bdb93-8af7-451e-b70b-fb1219e2017a",
   "metadata": {},
   "outputs": [],
   "source": [
    "def normalise_SPR_EN(row):\n",
    "    url, leaning = row[0], row[1]\n",
    "    match leaning:\n",
    "        case \"Liberal\":\n",
    "            normalised_leaning = -9\n",
    "        case \"Center\":\n",
    "            normalised_leaning = 0\n",
    "        case \"Conservative\":\n",
    "            normalised_leaning = 9\n",
    "    normalised_leaning\n",
    "    return {\"url\": re.search(r'https?:\\/\\/(?:www\\.)?(.*?)\\/?$', url).group(1), \"leaning\": normalised_leaning, \"source\": \"https://swprs.org/media-navigator/\"}\n",
    "\n",
    "SPR_EN_norm = {\"SPR_EN\": []}\n",
    "for row in SPR_EN:\n",
    "    SPR_EN_norm[\"SPR_EN\"].append(normalise_SPR_EN(row))"
   ]
  },
  {
   "cell_type": "code",
   "execution_count": 158,
   "id": "664ab100-76a1-41a6-ae34-fad927e4db39",
   "metadata": {},
   "outputs": [],
   "source": [
    "def normalise_SPR_DE(row):\n",
    "    url, leaning = row[0], row[1]\n",
    "    return {\"url\": re.search(r'https?:\\/\\/(?:www\\.)?(.*?)\\/?$', url).group(1), \"leaning\": leaning, \"source\": \"https://swprs.org/medien-navigator/\"}\n",
    "\n",
    "SPR_DE_norm = {\"SPR_DE\": []}\n",
    "for row in SPR_DE:\n",
    "    SPR_DE_norm[\"SPR_DE\"].append(normalise_SPR_DE(row))"
   ]
  },
  {
   "cell_type": "code",
   "execution_count": 159,
   "id": "6c685c80-ceb3-4758-98c2-67b1dba83419",
   "metadata": {},
   "outputs": [],
   "source": [
    "def normalise_allsides(row):\n",
    "    url, leaning, source = row[0], row[1], row[2]\n",
    "    match leaning:\n",
    "        case \"left\":\n",
    "            normalised_leaning = -12\n",
    "        case \"left-center\":\n",
    "            normalised_leaning = -6\n",
    "        case \"center\":\n",
    "            normalised_leaning = 0\n",
    "        case \"allsides\":\n",
    "            normalised_leaning = 0\n",
    "        case \"right-center\":\n",
    "            normalised_leaning = 6\n",
    "        case \"right\":\n",
    "            normalised_leaning = 12\n",
    "    normalised_leaning\n",
    "    return {\"url\": re.search(r'https?:\\/\\/(?:www\\.)?(.*?)\\/?$', url).group(1), \"leaning\": normalised_leaning, \"source\": source}\n",
    "\n",
    "allsides_norm = {\"allsides\": []}\n",
    "for row in allsides:\n",
    "    allsides_norm[\"allsides\"].append(normalise_allsides(row))"
   ]
  },
  {
   "cell_type": "code",
   "execution_count": 160,
   "id": "ad8c1a9d-b69a-41b2-958d-f18595eee699",
   "metadata": {},
   "outputs": [],
   "source": [
    "def normalise_adfontes(row):\n",
    "    url, reliability, leaning = row[0], row[1], row[2]\n",
    "    normalised_reliability = int(reliability) * 12 / 50\n",
    "    normalised_leaning = int(leaning) * 12 / 25\n",
    "    return {\"url\": re.search(r'https?:\\/\\/(?:www\\.)?(.*?)\\/?$', url).group(1), \"leaning\": normalised_leaning, \"reliability\": normalised_reliability, \"source\": \"https://adfontesmedia.com/interactive-media-bias-chart/\"}\n",
    "\n",
    "adfontes_norm = {\"adfontes\": []}\n",
    "for row in adfontes:\n",
    "    adfontes_norm[\"adfontes\"].append(normalise_adfontes(row))"
   ]
  },
  {
   "cell_type": "code",
   "execution_count": 161,
   "id": "4061fb2a-58a2-4827-9609-143ebe54477b",
   "metadata": {},
   "outputs": [],
   "source": [
    "def normalise_MBFC(row):\n",
    "    url, reliability, leaning, source = row[0], row[1], row[2], row[3]\n",
    "    match reliability:\n",
    "        case \"low\":\n",
    "            normalised_reliability = 2\n",
    "        case \"mixed\":\n",
    "            normalised_reliability = 6\n",
    "        case \"high\":\n",
    "            normalised_reliability = 10\n",
    "    match leaning:\n",
    "        case \"left\":\n",
    "            normalised_leaning = -9\n",
    "        case \"center\":\n",
    "            normalised_leaning = 0\n",
    "        case \"right\":\n",
    "            normalised_leaning = 9\n",
    "    return {\"url\": url, \"leaning\": normalised_leaning, \"reliability\": normalised_reliability, \"source\": source}\n",
    "\n",
    "MBFC_norm = {\"MBFC\": []}\n",
    "for row in MBFC:\n",
    "    MBFC_norm[\"MBFC\"].append(normalise_MBFC(row))"
   ]
  },
  {
   "cell_type": "markdown",
   "id": "29162b68-d238-4301-93b3-be740365b4f8",
   "metadata": {},
   "source": [
    "# Building Master List"
   ]
  },
  {
   "cell_type": "code",
   "execution_count": 162,
   "id": "bd178d2c-ed40-4981-9552-4a7e23675ae6",
   "metadata": {},
   "outputs": [],
   "source": [
    "master_list = {**SPR_EN_norm, **SPR_DE_norm, **allsides_norm, **adfontes_norm, **MBFC_norm}"
   ]
  },
  {
   "cell_type": "markdown",
   "id": "c74cb463-ee57-4200-8bb2-7c4998c0ebcf",
   "metadata": {
    "tags": []
   },
   "source": [
    "## (Saving/Loading Master List)"
   ]
  },
  {
   "cell_type": "code",
   "execution_count": 163,
   "id": "13a2ff64-705c-4cd4-8d77-810496d6db3b",
   "metadata": {},
   "outputs": [],
   "source": [
    "import json\n",
    "with open('master_list.json', 'w') as master:\n",
    "    json.dump(master_list, master)"
   ]
  },
  {
   "cell_type": "code",
   "execution_count": 2,
   "id": "3456fee0-c68e-4107-965b-52fb589e33a9",
   "metadata": {},
   "outputs": [],
   "source": [
    "import json\n",
    "with open('master_list.json', 'r') as file:\n",
    "    master_list = json.load(file)"
   ]
  },
  {
   "cell_type": "markdown",
   "id": "70f3da22-9f77-4643-8cbe-0b13b4bd6f4b",
   "metadata": {},
   "source": [
    "# Reconversion functions"
   ]
  },
  {
   "cell_type": "markdown",
   "id": "0ff1be26-6127-4ddf-9fd7-f2fc90dfdcf8",
   "metadata": {},
   "source": [
    "Functions to convert standardised numerical values back to string assessments."
   ]
  },
  {
   "cell_type": "code",
   "execution_count": 25,
   "id": "8b09f3be-224e-4610-986d-4c4221131f2a",
   "metadata": {},
   "outputs": [],
   "source": [
    "def leaning_reconv(leaning):\n",
    "    if leaning < -8:\n",
    "        return \"Left\"\n",
    "    elif leaning < -4:\n",
    "        return \"Center left\"\n",
    "    elif leaning <= 4:\n",
    "        return \"Center\"\n",
    "    elif leaning <= 8:\n",
    "        return \"Center right\"\n",
    "    else:\n",
    "        return \"Right\"\n",
    "    \n",
    "def reliability_reconv(reliability):\n",
    "    if reliability < 3:\n",
    "        return \"Low\"\n",
    "    elif reliability < 7:\n",
    "        return \"Mixed\"\n",
    "    else:\n",
    "        return \"High\""
   ]
  },
  {
   "cell_type": "markdown",
   "id": "bc63ac42-f983-4351-9f46-48a3af70085b",
   "metadata": {},
   "source": [
    "# Assess_url() Function"
   ]
  },
  {
   "cell_type": "code",
   "execution_count": 26,
   "id": "739237cf-0e28-4b6c-bd18-710ce746b89d",
   "metadata": {},
   "outputs": [],
   "source": [
    "def assess_url(url):\n",
    "    clean_url = re.search(r'(?:https?:\\/\\/)?(?:www\\.)?(.+?)\\/?$', url).group(1)\n",
    "    matches = []\n",
    "    for sublist in master_list:\n",
    "        for item in master_list[sublist]:\n",
    "            if item[\"url\"] == clean_url:\n",
    "                matches.append(item)\n",
    "    out = {\"reliability\": [], \"leaning\": []}\n",
    "    if len(matches) == 1:\n",
    "        if \"reliability\" in matches[0].keys(): out[\"reliability\"] = [{\"rating\": reliability_reconv(matches[0][\"reliability\"]), \"source\": matches[0][\"source\"]}]\n",
    "        if \"leaning\" in matches[0].keys(): out[\"leaning\"] = [{\"rating\": leaning_reconv(matches[0][\"leaning\"]), \"source\": matches[0][\"source\"]}]\n",
    "    if len(matches) > 1:\n",
    "        reliability_count = 0\n",
    "        reliability_total = 0\n",
    "        leaning_count = 0\n",
    "        leaning_total = 0\n",
    "        for item in matches:\n",
    "            if \"reliability\" in item.keys(): \n",
    "                reliability_count += 1\n",
    "                reliability_total += item[\"reliability\"]\n",
    "                out[\"reliability\"].append({\"rating\": reliability_reconv(item[\"reliability\"]), \"source\": item[\"source\"]})\n",
    "            if \"leaning\" in item.keys(): \n",
    "                leaning_count += 1\n",
    "                leaning_total += item[\"leaning\"]\n",
    "                out[\"leaning\"].append({\"rating\": leaning_reconv(item[\"leaning\"]), \"source\": item[\"source\"]})\n",
    "        if reliability_count > 1:\n",
    "            out[\"reliability\"].append({\"rating\": reliability_reconv(reliability_total / reliability_count), \"source\": \"MEAN_VALUE\"})\n",
    "        if leaning_count > 1:\n",
    "            out[\"leaning\"].append({\"rating\": leaning_reconv(leaning_total / leaning_count), \"source\": \"MEAN_VALUE\"})\n",
    "    return out"
   ]
  },
  {
   "cell_type": "code",
   "execution_count": 27,
   "id": "445bc674-0d8e-4e7b-b517-e33277206ea3",
   "metadata": {},
   "outputs": [],
   "source": [
    "list_handles = {}\n",
    "import csv\n",
    "with open('sample2.csv', 'r', newline='') as allsides:  \n",
    "    reader = csv.reader(allsides)\n",
    "    for record in reader:\n",
    "        handle, url = record[0], record[1]\n",
    "        list_handles[handle] = url \n",
    "\n",
    "def assess_handle(handle):\n",
    "    return assess_url(list_handles[handle])"
   ]
  },
  {
   "cell_type": "code",
   "execution_count": 30,
   "id": "18d2732d-52b6-4219-90e5-228926fbebb4",
   "metadata": {},
   "outputs": [
    {
     "data": {
      "text/plain": [
       "{'mashable': 'https://mashable.com/',\n",
       " 'cnnbrk': 'cnn.com',\n",
       " 'time': 'https://time.com/',\n",
       " 'bbcbreaking': 'bbc.com',\n",
       " 'espn': 'esp.com',\n",
       " 'gizmodo': 'gizmodo.com',\n",
       " 'wired': 'wired.com',\n",
       " 'wsj': 'wsj.com',\n",
       " 'cnn': 'cnn.com',\n",
       " 'nytimes': 'nytimes.com',\n",
       " 'foxnews': 'https://www.foxnews.com/',\n",
       " 'huffingtonpost': 'https://www.huffpost.com/',\n",
       " 'theeconomist': 'https://www.economist.com/',\n",
       " 'slate': 'https://slate.com/',\n",
       " 'reuters': 'https://www.reuters.com/',\n",
       " 'usatoday': 'https://usatoday.com/',\n",
       " 'msnbc_breaking': 'msnbc.com',\n",
       " 'cbsnews': 'https://www.cbsnews.com/',\n",
       " 'latimes': 'https://www.latimes.com/',\n",
       " 'nzz': 'nzz.ch',\n",
       " 'tagesanzeiger': 'https://www.tagesanzeiger.ch/',\n",
       " '20min': 'https://www.20min.ch/',\n",
       " 'bild': 'bild.de',\n",
       " 'blickch': 'blick.ch'}"
      ]
     },
     "execution_count": 30,
     "metadata": {},
     "output_type": "execute_result"
    }
   ],
   "source": [
    "list_handles"
   ]
  },
  {
   "cell_type": "markdown",
   "id": "6b260cb0-a449-4023-a4ae-96361c551227",
   "metadata": {},
   "source": [
    "# Testing"
   ]
  },
  {
   "cell_type": "code",
   "execution_count": 28,
   "id": "2f8ccd9b-2336-4fca-a36d-4671ed6a2020",
   "metadata": {},
   "outputs": [
    {
     "name": "stdout",
     "output_type": "stream",
     "text": [
      "{\n",
      "    \"reliability\": [\n",
      "        {\n",
      "            \"rating\": \"High\",\n",
      "            \"source\": \"https://adfontesmedia.com/interactive-media-bias-chart/\"\n",
      "        }\n",
      "    ],\n",
      "    \"leaning\": [\n",
      "        {\n",
      "            \"rating\": \"Left\",\n",
      "            \"source\": \"https://swprs.org/media-navigator/\"\n",
      "        },\n",
      "        {\n",
      "            \"rating\": \"Center left\",\n",
      "            \"source\": \"https://www.allsides.com/news-source/politico-media-bias\"\n",
      "        },\n",
      "        {\n",
      "            \"rating\": \"Center\",\n",
      "            \"source\": \"https://adfontesmedia.com/interactive-media-bias-chart/\"\n",
      "        },\n",
      "        {\n",
      "            \"rating\": \"Center left\",\n",
      "            \"source\": \"MEAN_VALUE\"\n",
      "        }\n",
      "    ]\n",
      "}\n"
     ]
    }
   ],
   "source": [
    "result = assess_url(\"https://politico.com\")\n",
    "print(json.dumps(result, indent=4))"
   ]
  },
  {
   "cell_type": "code",
   "execution_count": 31,
   "id": "93f5faf6-ed12-4a75-8141-2cf94b49fbe3",
   "metadata": {},
   "outputs": [
    {
     "data": {
      "text/plain": [
       "{'reliability': [{'rating': 'High',\n",
       "   'source': 'https://adfontesmedia.com/interactive-media-bias-chart/'},\n",
       "  {'rating': 'Mixed', 'source': 'http://mediabiasfactcheck.com/cnn/'},\n",
       "  {'rating': 'Mixed', 'source': 'MEAN_VALUE'}],\n",
       " 'leaning': [{'rating': 'Left',\n",
       "   'source': 'https://swprs.org/media-navigator/'},\n",
       "  {'rating': 'Left',\n",
       "   'source': 'https://www.allsides.com/news-source/cnn-media-bias'},\n",
       "  {'rating': 'Center',\n",
       "   'source': 'https://adfontesmedia.com/interactive-media-bias-chart/'},\n",
       "  {'rating': 'Left', 'source': 'http://mediabiasfactcheck.com/cnn/'},\n",
       "  {'rating': 'Left', 'source': 'MEAN_VALUE'}]}"
      ]
     },
     "execution_count": 31,
     "metadata": {},
     "output_type": "execute_result"
    }
   ],
   "source": [
    "assess_handle(\"cnn\")"
   ]
  },
  {
   "cell_type": "code",
   "execution_count": null,
   "id": "0ddbc383-72eb-46f9-8f2c-ab7ea004ff92",
   "metadata": {},
   "outputs": [],
   "source": []
  },
  {
   "cell_type": "code",
   "execution_count": null,
   "id": "58229f2f-81c4-411b-bdc3-82c349e18200",
   "metadata": {},
   "outputs": [],
   "source": []
  }
 ],
 "metadata": {
  "kernelspec": {
   "display_name": "Python 3 (ipykernel)",
   "language": "python",
   "name": "python3"
  },
  "language_info": {
   "codemirror_mode": {
    "name": "ipython",
    "version": 3
   },
   "file_extension": ".py",
   "mimetype": "text/x-python",
   "name": "python",
   "nbconvert_exporter": "python",
   "pygments_lexer": "ipython3",
   "version": "3.10.2"
  }
 },
 "nbformat": 4,
 "nbformat_minor": 5
}
